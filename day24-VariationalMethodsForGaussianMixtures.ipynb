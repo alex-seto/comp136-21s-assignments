{
 "cells": [
  {
   "cell_type": "markdown",
   "metadata": {},
   "source": [
    "# COMP 136 Day 24 - Variational Methods for GMMs\n",
    "\n",
    "\n",
    "## Outline\n",
    "\n",
    "* [Part 1: Variational Bayes optimization for GMMs](#part1)\n",
    "* [Part 2: Model Selection with variational Bayes](#part2)\n",
    "* [Part 3: Comparison to classic EM for GMMs](#part3)\n",
    "\n",
    "\n",
    "## Key takeaways\n",
    "\n",
    "* The method of \"Variational Bayes\" estimates a posterior distribution for all parameters (mixture weights $\\pi$, locations $\\mu_k$, cluster covariances $\\Sigma_k$)\n",
    "* By optimizing an objective that is based on a full marginal likelihood, the ELBO can be used for model selection ... simplest model that explains the data well will be strongly preferred\n",
    "* In contrast, classic EM for GMMs also optimizes an ELBO, but this version still conditions on point estimates for $\\pi, \\mu, \\Sigma$, and thus we cannot use this objective alone for model selection (see part 3)"
   ]
  },
  {
   "cell_type": "markdown",
   "metadata": {},
   "source": [
    "# Setup"
   ]
  },
  {
   "cell_type": "code",
   "execution_count": 1,
   "metadata": {},
   "outputs": [],
   "source": [
    "import numpy as np\n",
    "import pandas as pd\n",
    "import scipy.stats\n",
    "\n",
    "np.set_printoptions(precision=3, suppress=True)"
   ]
  },
  {
   "cell_type": "code",
   "execution_count": 2,
   "metadata": {},
   "outputs": [],
   "source": [
    "import matplotlib as mpl\n",
    "import matplotlib.pyplot as plt\n",
    "import seaborn as sns\n",
    "sns.set_style(\"whitegrid\")\n",
    "sns.set_context(\"notebook\", font_scale=1.25)"
   ]
  },
  {
   "cell_type": "code",
   "execution_count": 3,
   "metadata": {},
   "outputs": [],
   "source": [
    "def plot_GMM(pi_K, mu_KD, cov_KDD, color_list=['b', 'r', 'm', 'g', 'c', 'y'], ax_handle=None):\n",
    "    ''' Visualize gaussian mixture model\n",
    "    '''\n",
    "    # Create new figure if one not provided\n",
    "    if ax_handle is None:\n",
    "        plt.figure()\n",
    "        ax_handle = plt.gca()\n",
    "    \n",
    "    # Sort components from large to small\n",
    "    sort_ids = np.argsort(pi_K)[::-1] \n",
    "    pi_K = pi_K[sort_ids]\n",
    "    mu_KD = mu_KD[sort_ids]\n",
    "    cov_KDD = cov_KDD[sort_ids]\n",
    "    \n",
    "    for i, (freq, mean, covar, color) in enumerate(zip(\n",
    "            pi_K, mu_KD, cov_KDD, color_list)):\n",
    "        if freq < 0.005:\n",
    "            continue\n",
    "        \n",
    "        # Plot an ellipse to show the Gaussian component\n",
    "        v, w = np.linalg.eigh(covar)\n",
    "        v = 2. * np.sqrt(2.) * np.sqrt(v)\n",
    "        u = w[0] / np.linalg.norm(w[0])        \n",
    "        angle = np.arctan(u[1] / u[0])\n",
    "        angle = 180. * angle / np.pi # convert to degrees\n",
    "        ell = mpl.patches.Ellipse(mean, v[0], v[1], 180. + angle, color=color)\n",
    "        ell.set_clip_box(ax_handle.bbox)\n",
    "        ell.set_alpha(0.5)\n",
    "        ax_handle.add_artist(ell)\n",
    "\n",
    "        ax_handle.plot(\n",
    "            mean[0], mean[1], color=color, marker='+', mew=2.0, label='pi[%d] = %.3f' % (i,freq))"
   ]
  },
  {
   "cell_type": "markdown",
   "metadata": {},
   "source": [
    "# Create dataset"
   ]
  },
  {
   "cell_type": "code",
   "execution_count": 4,
   "metadata": {},
   "outputs": [],
   "source": [
    "## Number of true clusters\n",
    "K = 3"
   ]
  },
  {
   "cell_type": "code",
   "execution_count": 5,
   "metadata": {},
   "outputs": [],
   "source": [
    "## Number of dimensions\n",
    "D = 2"
   ]
  },
  {
   "cell_type": "code",
   "execution_count": 6,
   "metadata": {},
   "outputs": [],
   "source": [
    "## Appearance probabilities\n",
    "pi_K = np.asarray([0.6, 0.3, 0.1])"
   ]
  },
  {
   "cell_type": "code",
   "execution_count": 7,
   "metadata": {},
   "outputs": [],
   "source": [
    "mu_KD = np.zeros((K, D))\n",
    "mu_KD[0] = [-1, -1.0]\n",
    "mu_KD[1] = [+1, +1.0]\n",
    "mu_KD[2] = [0.2, -0.2]"
   ]
  },
  {
   "cell_type": "code",
   "execution_count": 8,
   "metadata": {},
   "outputs": [],
   "source": [
    "cov_KDD = np.vstack([\n",
    "    0.3 * np.eye(2)[np.newaxis,:,:],\n",
    "    0.3 * np.eye(2)[np.newaxis,:,:],\n",
    "    0.5 * np.asarray([[1.0, -0.8], [-0.8, 1.0]])[np.newaxis,:,:]])"
   ]
  },
  {
   "cell_type": "code",
   "execution_count": 9,
   "metadata": {},
   "outputs": [],
   "source": [
    "## Number of observations\n",
    "N = 1000\n",
    "\n",
    "prng = np.random.RandomState(0)"
   ]
  },
  {
   "cell_type": "code",
   "execution_count": 10,
   "metadata": {},
   "outputs": [],
   "source": [
    "truez_N = np.zeros(N)\n",
    "x_ND = np.zeros((N, D))\n",
    "for n in range(N):\n",
    "    k = prng.choice(np.arange(K), p=pi_K)\n",
    "    truez_N[n] = k\n",
    "    \n",
    "    x_ND[n] = prng.multivariate_normal(mu_KD[k], cov_KDD[k])"
   ]
  },
  {
   "cell_type": "markdown",
   "metadata": {},
   "source": [
    "### Visualize dataset : color each point by its assigned cluster id"
   ]
  },
  {
   "cell_type": "code",
   "execution_count": 11,
   "metadata": {},
   "outputs": [
    {
     "data": {
      "image/png": "[encoded data removed]",
      "text/plain": [
       "<Figure size 432x288 with 1 Axes>"
      ]
     },
     "metadata": {},
     "output_type": "display_data"
    }
   ],
   "source": [
    "for (k, color) in [(0, 'b'), (1, 'r'), (2, 'm')]:\n",
    "    plt.plot(x_ND[truez_N == k,0], x_ND[truez_N == k,1], color=color, marker='.', linestyle='')\n",
    "plt.gca().set_aspect('equal');\n",
    "plt.xlabel('x_1');\n",
    "plt.ylabel('x_2');"
   ]
  },
  {
   "cell_type": "code",
   "execution_count": 12,
   "metadata": {},
   "outputs": [
    {
     "data": {
      "image/png": "[encoded data removed]",
      "text/plain": [
       "<Figure size 432x288 with 1 Axes>"
      ]
     },
     "metadata": {},
     "output_type": "display_data"
    }
   ],
   "source": [
    "plot_GMM(pi_K, mu_KD, cov_KDD);\n",
    "plt.xlim([-3, 3]);\n",
    "plt.ylim([-3, 3]);\n",
    "plt.legend(loc='upper left');"
   ]
  },
  {
   "cell_type": "markdown",
   "metadata": {},
   "source": [
    "# Part 1 : Fit a GMM to data using 'Full Variational Bayes' Optimization Methods\n",
    "\n",
    "Here, we'll use sklearn's built-in \"BayesianGaussianMixture\" implementation.\n",
    "\n",
    "This is like the variational coordinate ascent algorithm described in Bishop PRML textbook Sec. 10.2\n",
    "\n",
    "The model is:\n",
    "\n",
    "$$\n",
    "p( x, z | \\pi, \\mu, \\Sigma ) = \\prod_{n=1}^N \\text{Cat}(z_n | \\pi ) \\text{MVNorm}(x_n | \\mu_{z_n}, \\Sigma_{z_n} )\n",
    "$$\n",
    "\n",
    "with a fully conjugate prior on parameters something like this (defer to sklearn documentation for correct description):\n",
    "\n",
    "$$\n",
    "p( \\pi ) = \\text{Dir}( \\pi | a_0, \\ldots a_0 )\n",
    "\\\\\n",
    "p( \\mu, \\Sigma ) = \\prod_{k=1}^K \\text{MVNorm}(\\mu_k | m_0, \\kappa_0 \\Sigma_k ) \\text{Wish}( \\Sigma_k | n_0, S_0 )\n",
    "$$\n",
    "\n",
    "The goal of `sklearn.mixture.BayesianGaussianMixture` is to find an approximate posterior over all unknown random variables. In this way this is like the \"EE\" algorithm we discussed in lecture, rather than the classic \"E/M\" algorithm you implemented in CP4.\n",
    "\n",
    "### Approximate posterior\n",
    "\n",
    "\\begin{align}\n",
    "q( \\pi ) &= \\text{Dir}( a_1, \\ldots a_K )\n",
    "\\\\\n",
    "q( \\mu, \\Sigma ) &= \\prod_{k=1}^K \\text{MVNorm}(\\mu_k | m_k, \\kappa_k \\Sigma_k ) \\text{Wish}( \\Sigma_k | n_k, S_k )\n",
    "\\\\\n",
    "q( z ) &= \\prod_{n=1}^N \\text{Cat}( z_n | r_{n1}, \\ldots r_{nK} )\n",
    "\\end{align}\n",
    "\n",
    "The goal of the algorithm is to minimize the KL between this $q$ and the true posterior $p( z, \\pi, \\mu, \\Sigma | x)$.\n",
    "\n",
    "This is equivalent to maximizing the ELBO. \n",
    "\n",
    "The algorithm implemented does a coordinate ascent approach, as discussed in lecture"
   ]
  },
  {
   "cell_type": "code",
   "execution_count": 32,
   "metadata": {},
   "outputs": [],
   "source": [
    "import sklearn.mixture"
   ]
  },
  {
   "cell_type": "code",
   "execution_count": 14,
   "metadata": {},
   "outputs": [],
   "source": [
    "gmm = sklearn.mixture.BayesianGaussianMixture(\n",
    "    n_components=3,\n",
    "\n",
    "    # Prior on mixture weights pi\n",
    "    weight_concentration_prior_type='dirichlet_distribution',\n",
    "    weight_concentration_prior=0.5,\n",
    "\n",
    "    # Prior on locations mu\n",
    "    mean_prior=np.zeros(D),\n",
    "    mean_precision_prior=1.0,\n",
    "\n",
    "    # Prior on covariances Sigma\n",
    "    covariance_type='full',\n",
    "    covariance_prior=np.eye(D),\n",
    "    degrees_of_freedom_prior=D + 1.0,\n",
    "\n",
    "    # Initialization settings\n",
    "    random_state=42,\n",
    "    init_params='kmeans',\n",
    "    n_init=1,\n",
    "\n",
    "    # Optimization algorithm settings\n",
    "    max_iter=100,\n",
    "    tol=0.0001,\n",
    "    verbose=2,\n",
    "    verbose_interval=1,)"
   ]
  },
  {
   "cell_type": "code",
   "execution_count": 15,
   "metadata": {},
   "outputs": [
    {
     "name": "stdout",
     "output_type": "stream",
     "text": [
      "Initialization 0\n",
      "  Iteration 1\t time lapse 0.00649s\t ll change inf\n",
      "  Iteration 2\t time lapse 0.00122s\t ll change 10.26674\n",
      "  Iteration 3\t time lapse 0.00109s\t ll change 3.78400\n",
      "  Iteration 4\t time lapse 0.00105s\t ll change 2.05885\n",
      "  Iteration 5\t time lapse 0.00115s\t ll change 1.39327\n",
      "  Iteration 6\t time lapse 0.00116s\t ll change 1.07539\n",
      "  Iteration 7\t time lapse 0.00093s\t ll change 0.90047\n",
      "  Iteration 8\t time lapse 0.00089s\t ll change 0.79437\n",
      "  Iteration 9\t time lapse 0.00080s\t ll change 0.72557\n",
      "  Iteration 10\t time lapse 0.00084s\t ll change 0.67888\n",
      "  Iteration 11\t time lapse 0.00081s\t ll change 0.64614\n",
      "  Iteration 12\t time lapse 0.00092s\t ll change 0.62248\n",
      "  Iteration 13\t time lapse 0.00086s\t ll change 0.60461\n",
      "  Iteration 14\t time lapse 0.00090s\t ll change 0.59007\n",
      "  Iteration 15\t time lapse 0.00087s\t ll change 0.57668\n",
      "  Iteration 16\t time lapse 0.00089s\t ll change 0.56231\n",
      "  Iteration 17\t time lapse 0.00084s\t ll change 0.54463\n",
      "  Iteration 18\t time lapse 0.00087s\t ll change 0.52116\n",
      "  Iteration 19\t time lapse 0.00105s\t ll change 0.48972\n",
      "  Iteration 20\t time lapse 0.00098s\t ll change 0.44914\n",
      "  Iteration 21\t time lapse 0.00112s\t ll change 0.39994\n",
      "  Iteration 22\t time lapse 0.00121s\t ll change 0.34454\n",
      "  Iteration 23\t time lapse 0.00098s\t ll change 0.28671\n",
      "  Iteration 24\t time lapse 0.00103s\t ll change 0.23058\n",
      "  Iteration 25\t time lapse 0.00100s\t ll change 0.17959\n",
      "  Iteration 26\t time lapse 0.00113s\t ll change 0.13591\n",
      "  Iteration 27\t time lapse 0.00107s\t ll change 0.10035\n",
      "  Iteration 28\t time lapse 0.00096s\t ll change 0.07256\n",
      "  Iteration 29\t time lapse 0.00086s\t ll change 0.05159\n",
      "  Iteration 30\t time lapse 0.00083s\t ll change 0.03618\n",
      "  Iteration 31\t time lapse 0.00084s\t ll change 0.02510\n",
      "  Iteration 32\t time lapse 0.00085s\t ll change 0.01726\n",
      "  Iteration 33\t time lapse 0.00086s\t ll change 0.01179\n",
      "  Iteration 34\t time lapse 0.00087s\t ll change 0.00801\n",
      "  Iteration 35\t time lapse 0.00093s\t ll change 0.00542\n",
      "  Iteration 36\t time lapse 0.00083s\t ll change 0.00365\n",
      "  Iteration 37\t time lapse 0.00102s\t ll change 0.00245\n",
      "  Iteration 38\t time lapse 0.00088s\t ll change 0.00165\n",
      "  Iteration 39\t time lapse 0.00083s\t ll change 0.00110\n",
      "  Iteration 40\t time lapse 0.00084s\t ll change 0.00074\n",
      "  Iteration 41\t time lapse 0.00083s\t ll change 0.00049\n",
      "  Iteration 42\t time lapse 0.00084s\t ll change 0.00033\n",
      "  Iteration 43\t time lapse 0.00086s\t ll change 0.00022\n",
      "  Iteration 44\t time lapse 0.00083s\t ll change 0.00015\n",
      "  Iteration 45\t time lapse 0.00082s\t ll change 0.00010\n",
      "Initialization converged: True\t time lapse 0.04775s\t ll -538.34461\n"
     ]
    },
    {
     "data": {
      "text/plain": [
       "BayesianGaussianMixture(covariance_prior=array([[1., 0.],\n",
       "       [0., 1.]]),\n",
       "                        degrees_of_freedom_prior=3.0, mean_precision_prior=1.0,\n",
       "                        mean_prior=array([0., 0.]), n_components=3,\n",
       "                        random_state=42, tol=0.0001, verbose=2,\n",
       "                        verbose_interval=1, weight_concentration_prior=0.5,\n",
       "                        weight_concentration_prior_type='dirichlet_distribution')"
      ]
     },
     "execution_count": 15,
     "metadata": {},
     "output_type": "execute_result"
    }
   ],
   "source": [
    "gmm.fit(x_ND)"
   ]
  },
  {
   "cell_type": "code",
   "execution_count": 16,
   "metadata": {},
   "outputs": [
    {
     "data": {
      "text/plain": [
       "-538.3446085001409"
      ]
     },
     "execution_count": 16,
     "metadata": {},
     "output_type": "execute_result"
    }
   ],
   "source": [
    "gmm.lower_bound_"
   ]
  },
  {
   "cell_type": "markdown",
   "metadata": {},
   "source": [
    "### Inspect learned approximate posterior\n",
    "\n",
    "$$\n",
    "q( \\pi ) = \\text{Dir}( a_1, a_2, \\ldots a_K )\n",
    "$$"
   ]
  },
  {
   "cell_type": "code",
   "execution_count": 17,
   "metadata": {},
   "outputs": [
    {
     "name": "stdout",
     "output_type": "stream",
     "text": [
      "[259.    634.045 108.455]\n"
     ]
    }
   ],
   "source": [
    "a_K = gmm.weight_concentration_\n",
    "print(a_K)"
   ]
  },
  {
   "cell_type": "markdown",
   "metadata": {},
   "source": [
    "Mean of the pi vector"
   ]
  },
  {
   "cell_type": "code",
   "execution_count": 18,
   "metadata": {},
   "outputs": [
    {
     "name": "stdout",
     "output_type": "stream",
     "text": [
      "[0.259 0.633 0.108]\n"
     ]
    }
   ],
   "source": [
    "E_pi_K = a_K / np.sum(a_K)\n",
    "print(E_pi_K)"
   ]
  },
  {
   "cell_type": "markdown",
   "metadata": {},
   "source": [
    "Print 10 samples of pi from q"
   ]
  },
  {
   "cell_type": "code",
   "execution_count": 19,
   "metadata": {},
   "outputs": [
    {
     "data": {
      "text/plain": [
       "array([[0.266, 0.635, 0.099],\n",
       "       [0.259, 0.623, 0.118],\n",
       "       [0.273, 0.618, 0.109],\n",
       "       [0.262, 0.62 , 0.118],\n",
       "       [0.254, 0.634, 0.112]])"
      ]
     },
     "execution_count": 19,
     "metadata": {},
     "output_type": "execute_result"
    }
   ],
   "source": [
    "prng.dirichlet(a_K, size=5)"
   ]
  },
  {
   "cell_type": "markdown",
   "metadata": {},
   "source": [
    "## Visualize learned GMM (use expected value of each parameter)"
   ]
  },
  {
   "cell_type": "code",
   "execution_count": 20,
   "metadata": {},
   "outputs": [
    {
     "data": {
      "image/png": "[encoded data removed]",
      "text/plain": [
       "<Figure size 432x288 with 1 Axes>"
      ]
     },
     "metadata": {},
     "output_type": "display_data"
    }
   ],
   "source": [
    "plot_GMM(E_pi_K, gmm.means_, gmm.covariances_)\n",
    "plt.xlim([-3, 3]);\n",
    "plt.ylim([-3, 3]);\n",
    "plt.legend(loc='upper left');"
   ]
  },
  {
   "cell_type": "markdown",
   "metadata": {},
   "source": [
    "# Part 2: Look at multiple runs of 'Bayesian GMM' across several K values"
   ]
  },
  {
   "cell_type": "code",
   "execution_count": 21,
   "metadata": {},
   "outputs": [
    {
     "name": "stdout",
     "output_type": "stream",
     "text": [
      "completed trial  101 with K    1 : ELBO value -744.27089\n",
      "completed trial  102 with K    1 : ELBO value -744.27089\n",
      "completed trial  103 with K    1 : ELBO value -744.27089\n",
      "completed trial  101 with K    2 : ELBO value -570.80791\n",
      "completed trial  102 with K    2 : ELBO value -570.80789\n",
      "completed trial  103 with K    2 : ELBO value -570.80791\n",
      "completed trial  101 with K    3 : ELBO value -538.34455\n",
      "completed trial  102 with K    3 : ELBO value -538.34455\n",
      "completed trial  103 with K    3 : ELBO value -538.34456\n",
      "completed trial  101 with K    4 : ELBO value -549.64003\n",
      "completed trial  102 with K    4 : ELBO value -543.48717\n"
     ]
    },
    {
     "name": "stderr",
     "output_type": "stream",
     "text": [
      "/Users/mhughes/miniconda3/envs/spr_2021s_env/lib/python3.9/site-packages/sklearn/mixture/_base.py:265: ConvergenceWarning: Initialization 1 did not converge. Try different init parameters, or increase max_iter, tol or check for degenerate data.\n",
      "  warnings.warn('Initialization %d did not converge. '\n",
      "/Users/mhughes/miniconda3/envs/spr_2021s_env/lib/python3.9/site-packages/sklearn/mixture/_base.py:265: ConvergenceWarning: Initialization 1 did not converge. Try different init parameters, or increase max_iter, tol or check for degenerate data.\n",
      "  warnings.warn('Initialization %d did not converge. '\n",
      "/Users/mhughes/miniconda3/envs/spr_2021s_env/lib/python3.9/site-packages/sklearn/mixture/_base.py:265: ConvergenceWarning: Initialization 1 did not converge. Try different init parameters, or increase max_iter, tol or check for degenerate data.\n",
      "  warnings.warn('Initialization %d did not converge. '\n"
     ]
    },
    {
     "name": "stdout",
     "output_type": "stream",
     "text": [
      "completed trial  103 with K    4 : ELBO value -550.57837\n",
      "completed trial  101 with K    5 : ELBO value -559.32673\n"
     ]
    },
    {
     "name": "stderr",
     "output_type": "stream",
     "text": [
      "/Users/mhughes/miniconda3/envs/spr_2021s_env/lib/python3.9/site-packages/sklearn/mixture/_base.py:265: ConvergenceWarning: Initialization 1 did not converge. Try different init parameters, or increase max_iter, tol or check for degenerate data.\n",
      "  warnings.warn('Initialization %d did not converge. '\n",
      "/Users/mhughes/miniconda3/envs/spr_2021s_env/lib/python3.9/site-packages/sklearn/mixture/_base.py:265: ConvergenceWarning: Initialization 1 did not converge. Try different init parameters, or increase max_iter, tol or check for degenerate data.\n",
      "  warnings.warn('Initialization %d did not converge. '\n"
     ]
    },
    {
     "name": "stdout",
     "output_type": "stream",
     "text": [
      "completed trial  102 with K    5 : ELBO value -554.45086\n",
      "completed trial  103 with K    5 : ELBO value -555.30253\n"
     ]
    },
    {
     "name": "stderr",
     "output_type": "stream",
     "text": [
      "/Users/mhughes/miniconda3/envs/spr_2021s_env/lib/python3.9/site-packages/sklearn/mixture/_base.py:265: ConvergenceWarning: Initialization 1 did not converge. Try different init parameters, or increase max_iter, tol or check for degenerate data.\n",
      "  warnings.warn('Initialization %d did not converge. '\n",
      "/Users/mhughes/miniconda3/envs/spr_2021s_env/lib/python3.9/site-packages/sklearn/mixture/_base.py:265: ConvergenceWarning: Initialization 1 did not converge. Try different init parameters, or increase max_iter, tol or check for degenerate data.\n",
      "  warnings.warn('Initialization %d did not converge. '\n"
     ]
    },
    {
     "name": "stdout",
     "output_type": "stream",
     "text": [
      "completed trial  101 with K    6 : ELBO value -563.86519\n",
      "completed trial  102 with K    6 : ELBO value -565.66680\n"
     ]
    },
    {
     "name": "stderr",
     "output_type": "stream",
     "text": [
      "/Users/mhughes/miniconda3/envs/spr_2021s_env/lib/python3.9/site-packages/sklearn/mixture/_base.py:265: ConvergenceWarning: Initialization 1 did not converge. Try different init parameters, or increase max_iter, tol or check for degenerate data.\n",
      "  warnings.warn('Initialization %d did not converge. '\n",
      "/Users/mhughes/miniconda3/envs/spr_2021s_env/lib/python3.9/site-packages/sklearn/mixture/_base.py:265: ConvergenceWarning: Initialization 1 did not converge. Try different init parameters, or increase max_iter, tol or check for degenerate data.\n",
      "  warnings.warn('Initialization %d did not converge. '\n"
     ]
    },
    {
     "name": "stdout",
     "output_type": "stream",
     "text": [
      "completed trial  103 with K    6 : ELBO value -563.81292\n",
      "completed trial  101 with K    8 : ELBO value -582.62986\n"
     ]
    },
    {
     "name": "stderr",
     "output_type": "stream",
     "text": [
      "/Users/mhughes/miniconda3/envs/spr_2021s_env/lib/python3.9/site-packages/sklearn/mixture/_base.py:265: ConvergenceWarning: Initialization 1 did not converge. Try different init parameters, or increase max_iter, tol or check for degenerate data.\n",
      "  warnings.warn('Initialization %d did not converge. '\n",
      "/Users/mhughes/miniconda3/envs/spr_2021s_env/lib/python3.9/site-packages/sklearn/mixture/_base.py:265: ConvergenceWarning: Initialization 1 did not converge. Try different init parameters, or increase max_iter, tol or check for degenerate data.\n",
      "  warnings.warn('Initialization %d did not converge. '\n"
     ]
    },
    {
     "name": "stdout",
     "output_type": "stream",
     "text": [
      "completed trial  102 with K    8 : ELBO value -563.27466\n",
      "completed trial  103 with K    8 : ELBO value -567.04445\n"
     ]
    },
    {
     "name": "stderr",
     "output_type": "stream",
     "text": [
      "/Users/mhughes/miniconda3/envs/spr_2021s_env/lib/python3.9/site-packages/sklearn/mixture/_base.py:265: ConvergenceWarning: Initialization 1 did not converge. Try different init parameters, or increase max_iter, tol or check for degenerate data.\n",
      "  warnings.warn('Initialization %d did not converge. '\n",
      "/Users/mhughes/miniconda3/envs/spr_2021s_env/lib/python3.9/site-packages/sklearn/mixture/_base.py:265: ConvergenceWarning: Initialization 1 did not converge. Try different init parameters, or increase max_iter, tol or check for degenerate data.\n",
      "  warnings.warn('Initialization %d did not converge. '\n"
     ]
    },
    {
     "name": "stdout",
     "output_type": "stream",
     "text": [
      "completed trial  101 with K   10 : ELBO value -571.66865\n",
      "completed trial  102 with K   10 : ELBO value -583.95799\n",
      "completed trial  103 with K   10 : ELBO value -563.42928\n"
     ]
    },
    {
     "name": "stderr",
     "output_type": "stream",
     "text": [
      "/Users/mhughes/miniconda3/envs/spr_2021s_env/lib/python3.9/site-packages/sklearn/mixture/_base.py:265: ConvergenceWarning: Initialization 1 did not converge. Try different init parameters, or increase max_iter, tol or check for degenerate data.\n",
      "  warnings.warn('Initialization %d did not converge. '\n",
      "/Users/mhughes/miniconda3/envs/spr_2021s_env/lib/python3.9/site-packages/sklearn/mixture/_base.py:265: ConvergenceWarning: Initialization 1 did not converge. Try different init parameters, or increase max_iter, tol or check for degenerate data.\n",
      "  warnings.warn('Initialization %d did not converge. '\n"
     ]
    }
   ],
   "source": [
    "results_list = list()\n",
    "\n",
    "best_gmm_per_K = dict()\n",
    "\n",
    "for Kinit in [1, 2, 3, 4, 5, 6, 8, 10]:\n",
    "    for trial in [101, 102, 103]:\n",
    "        gmm = sklearn.mixture.BayesianGaussianMixture(\n",
    "            n_components=Kinit,\n",
    "            \n",
    "            # Prior on mixture weights pi\n",
    "            weight_concentration_prior_type='dirichlet_distribution',\n",
    "            weight_concentration_prior=0.5,\n",
    "            \n",
    "            # Prior on locations mu\n",
    "            mean_prior=np.zeros(D),\n",
    "            mean_precision_prior=1.0,\n",
    "            \n",
    "            # Prior on covariances Sigma\n",
    "            covariance_type='full',\n",
    "            covariance_prior=np.eye(D),\n",
    "            degrees_of_freedom_prior=D + 1.0,\n",
    "\n",
    "            # Initialization settings\n",
    "            random_state=trial,\n",
    "            init_params='kmeans',\n",
    "            n_init=1,\n",
    "            \n",
    "            # Optimization algorithm settings\n",
    "            max_iter=100,\n",
    "            tol=0.0001,\n",
    "            verbose=0)\n",
    "        gmm.fit(x_ND)\n",
    "        print(\"completed trial %4d with K %4d : ELBO value % 9.5f\" % (trial, Kinit, gmm.lower_bound_))\n",
    "        results_list.append(dict(K=Kinit, elbo=gmm.lower_bound_))\n",
    "        \n",
    "        try:\n",
    "            prev_best_elbo = best_gmm_per_K[Kinit].lower_bound_\n",
    "        except KeyError:\n",
    "            prev_best_elbo = -np.inf\n",
    "        if gmm.lower_bound_ > prev_best_elbo:\n",
    "            best_gmm_per_K[Kinit] = gmm"
   ]
  },
  {
   "cell_type": "markdown",
   "metadata": {},
   "source": [
    "## Demo 2a: Recreate Bishop's figure 10.7 : Plot of ELBO value vs model size (K)"
   ]
  },
  {
   "cell_type": "code",
   "execution_count": 22,
   "metadata": {},
   "outputs": [],
   "source": [
    "result_df = pd.DataFrame(results_list)"
   ]
  },
  {
   "cell_type": "code",
   "execution_count": 23,
   "metadata": {},
   "outputs": [
    {
     "data": {
      "image/png": "[encoded data removed]",
      "text/plain": [
       "<Figure size 432x288 with 1 Axes>"
      ]
     },
     "metadata": {},
     "output_type": "display_data"
    }
   ],
   "source": [
    "plt.plot(result_df['K'], result_df['elbo'], 'r+')\n",
    "plt.xlabel('number components');\n",
    "plt.ylabel('ELBO from EE');\n",
    "plt.title('Training ELBO vs Number of Clusters');"
   ]
  },
  {
   "cell_type": "markdown",
   "metadata": {},
   "source": [
    "## Discussion 2a : Does this figure show what you'd expect?"
   ]
  },
  {
   "cell_type": "code",
   "execution_count": 24,
   "metadata": {},
   "outputs": [],
   "source": [
    "# TODO discuss"
   ]
  },
  {
   "cell_type": "markdown",
   "metadata": {},
   "source": [
    "## Exercise 2b : Visualize the best GMM with K=2"
   ]
  },
  {
   "cell_type": "code",
   "execution_count": 25,
   "metadata": {},
   "outputs": [
    {
     "name": "stderr",
     "output_type": "stream",
     "text": [
      "No handles with labels found to put in legend.\n"
     ]
    },
    {
     "data": {
      "image/png": "[encoded data removed]",
      "text/plain": [
       "<Figure size 432x288 with 1 Axes>"
      ]
     },
     "metadata": {},
     "output_type": "display_data"
    }
   ],
   "source": [
    "gmmK2 = best_gmm_per_K[2]\n",
    "\n",
    "# TODO plot and interpret\n",
    "plt.xlim([-3, 3]);\n",
    "plt.ylim([-3, 3]);\n",
    "plt.legend(loc='upper left');"
   ]
  },
  {
   "cell_type": "markdown",
   "metadata": {},
   "source": [
    "## Exercise 2c: Visualize the best GMM with K=4"
   ]
  },
  {
   "cell_type": "code",
   "execution_count": 26,
   "metadata": {},
   "outputs": [],
   "source": [
    "# TODO plot and interpret"
   ]
  },
  {
   "cell_type": "markdown",
   "metadata": {},
   "source": [
    "# Part 3: Compare to classic GMM"
   ]
  },
  {
   "cell_type": "code",
   "execution_count": 27,
   "metadata": {},
   "outputs": [
    {
     "name": "stdout",
     "output_type": "stream",
     "text": [
      "completed trial  101 with K    1 : ELBO value  -2.56670\n",
      "completed trial  102 with K    1 : ELBO value  -2.56670\n",
      "completed trial  103 with K    1 : ELBO value  -2.56670\n",
      "completed trial  101 with K    2 : ELBO value  -2.37759\n",
      "completed trial  102 with K    2 : ELBO value  -2.37756\n",
      "completed trial  103 with K    2 : ELBO value  -2.37759\n",
      "completed trial  101 with K    3 : ELBO value  -2.32979\n",
      "completed trial  102 with K    3 : ELBO value  -2.32979\n",
      "completed trial  103 with K    3 : ELBO value  -2.32974\n",
      "completed trial  101 with K    4 : ELBO value  -2.32750\n",
      "completed trial  102 with K    4 : ELBO value  -2.32342\n",
      "completed trial  103 with K    4 : ELBO value  -2.32732\n",
      "completed trial  101 with K    5 : ELBO value  -2.32629\n",
      "completed trial  102 with K    5 : ELBO value  -2.32051\n",
      "completed trial  103 with K    5 : ELBO value  -2.32522\n",
      "completed trial  101 with K    6 : ELBO value  -2.32367\n",
      "completed trial  102 with K    6 : ELBO value  -2.31492\n",
      "completed trial  103 with K    6 : ELBO value  -2.32369\n",
      "completed trial  101 with K    8 : ELBO value  -2.31723\n",
      "completed trial  102 with K    8 : ELBO value  -2.31294\n",
      "completed trial  103 with K    8 : ELBO value  -2.31236\n",
      "completed trial  101 with K   10 : ELBO value  -2.30657\n",
      "completed trial  102 with K   10 : ELBO value  -2.31183\n",
      "completed trial  103 with K   10 : ELBO value  -2.30561\n"
     ]
    }
   ],
   "source": [
    "results_EM_list = list()\n",
    "\n",
    "for Kinit in [1, 2, 3, 4, 5, 6, 8, 10]:\n",
    "    for trial in [101, 102, 103]:\n",
    "        gmm = sklearn.mixture.GaussianMixture(\n",
    "            n_components=Kinit,\n",
    "            \n",
    "            # Penalty / regularization on covariances Sigma\n",
    "            covariance_type='full',\n",
    "            reg_covar=0.000001,\n",
    "            \n",
    "            # Initialization settings\n",
    "            random_state=trial,\n",
    "            init_params='kmeans',\n",
    "            n_init=1,\n",
    "            \n",
    "            # Optimization algorithm settings\n",
    "            max_iter=10000,\n",
    "            tol=0.0001,\n",
    "            verbose=0)\n",
    "        gmm.fit(x_ND)\n",
    "        print(\"completed trial %4d with K %4d : ELBO value % 9.5f\" % (trial, Kinit, gmm.lower_bound_))\n",
    "        results_EM_list.append(dict(K=Kinit, elbo=gmm.lower_bound_))"
   ]
  },
  {
   "cell_type": "code",
   "execution_count": 28,
   "metadata": {},
   "outputs": [],
   "source": [
    "result_EM_df = pd.DataFrame(results_EM_list)"
   ]
  },
  {
   "cell_type": "code",
   "execution_count": 29,
   "metadata": {},
   "outputs": [
    {
     "data": {
      "image/png": "[encoded data removed]",
      "text/plain": [
       "<Figure size 432x288 with 1 Axes>"
      ]
     },
     "metadata": {},
     "output_type": "display_data"
    }
   ],
   "source": [
    "plt.plot(result_EM_df['K'], result_EM_df['elbo'], 'r+')\n",
    "plt.xlabel('number components');\n",
    "plt.ylabel('ELBO for EM');\n",
    "plt.title('Training Set ELBO vs Number of Clusters');"
   ]
  },
  {
   "cell_type": "markdown",
   "metadata": {},
   "source": [
    "## Discussion 3a : Does this figure show what you'd expect?"
   ]
  },
  {
   "cell_type": "code",
   "execution_count": 30,
   "metadata": {},
   "outputs": [],
   "source": [
    "# TODO Discuss"
   ]
  },
  {
   "cell_type": "code",
   "execution_count": null,
   "metadata": {},
   "outputs": [],
   "source": []
  }
 ],
 "metadata": {
  "kernelspec": {
   "display_name": "Python 3",
   "language": "python",
   "name": "python3"
  },
  "language_info": {
   "codemirror_mode": {
    "name": "ipython",
    "version": 3
   },
   "file_extension": ".py",
   "mimetype": "text/x-python",
   "name": "python",
   "nbconvert_exporter": "python",
   "pygments_lexer": "ipython3",
   "version": "3.9.2"
  }
 },
 "nbformat": 4,
 "nbformat_minor": 2
}
