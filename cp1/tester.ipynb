{
 "cells": [
  {
   "cell_type": "code",
   "execution_count": 20,
   "id": "38ea9fb9-35e9-4d67-a132-7d223902c999",
   "metadata": {},
   "outputs": [],
   "source": [
    "import os\n",
    "\n",
    "os.environ['PATH'] = os.environ['PATH'][:-4] + \"n/src\""
   ]
  },
  {
   "cell_type": "code",
   "execution_count": 21,
   "id": "5bb544c2-99de-46ef-b7da-fe015473ad01",
   "metadata": {},
   "outputs": [
    {
     "name": "stdout",
     "output_type": "stream",
     "text": [
      "/Library/Frameworks/Python.framework/Versions/3.8/bin:/Users/alexseto/opt/anaconda3/envs/spr_2021s_env/bin:/Users/alexseto/opt/anaconda3/condabin:/usr/local/bin:/usr/bin:/bin:/usr/sbin:/sbin:/Users/alexseto/Downloads/igg-master/chromedriver:/Library/TeX/texbin/src\n"
     ]
    }
   ],
   "source": [
    "!echo $PATH"
   ]
  },
  {
   "cell_type": "code",
   "execution_count": 45,
   "id": "0c4738b4-e456-471c-9227-b49b4a75e029",
   "metadata": {},
   "outputs": [],
   "source": [
    "import sys\n",
    "sys.path.append('src')"
   ]
  },
  {
   "cell_type": "code",
   "execution_count": 51,
   "id": "02512fd7-40b5-4c7f-98d0-5532c885a7c6",
   "metadata": {},
   "outputs": [],
   "source": [
    "from src.Vocabulary import Vocabulary\n",
    "from src.MLEstimator import MLEstimator\n",
    "from src.MAPEstimator import MAPEstimator\n",
    "from src.MAPEstimator import MAPEstimator\n",
    "from src.PosteriorPredictiveEstimator import PosteriorPredictiveEstimator"
   ]
  },
  {
   "cell_type": "code",
   "execution_count": 52,
   "id": "8558ae11-be9a-4618-930f-9235ea8628b8",
   "metadata": {},
   "outputs": [
    {
     "data": {
      "text/plain": [
       "True"
      ]
     },
     "execution_count": 52,
     "metadata": {},
     "output_type": "execute_result"
    }
   ],
   "source": [
    "word_list = ['dinosaur', 'trex', 'dinosaur', 'stegosaurus']\n",
    "ppe = PosteriorPredictiveEstimator(Vocabulary(word_list), alpha=2.0)\n",
    "ppe.fit(word_list)\n",
    "np.allclose(ppe.predict_proba('dinosaur'), 4.0/10.0)"
   ]
  },
  {
   "cell_type": "code",
   "execution_count": 44,
   "id": "3b1bdf45-959e-4bf7-866f-57d15659a9dc",
   "metadata": {},
   "outputs": [
    {
     "data": {
      "text/plain": [
       "True"
      ]
     },
     "execution_count": 44,
     "metadata": {},
     "output_type": "execute_result"
    }
   ],
   "source": [
    "word_list = ['dinosaur', 'trex', 'dinosaur', 'stegosaurus']\n",
    "mapEst = MAPEstimator(Vocabulary(word_list), alpha=2.0)\n",
    "mapEst.fit(word_list)\n",
    "np.allclose(mapEst.predict_proba('dinosaur'), 3.0/7.0)"
   ]
  },
  {
   "cell_type": "code",
   "execution_count": null,
   "id": "0117e548-c719-4651-82ef-47d7e02f5c2a",
   "metadata": {},
   "outputs": [],
   "source": []
  }
 ],
 "metadata": {
  "kernelspec": {
   "display_name": "Python 3 (ipykernel)",
   "language": "python",
   "name": "python3"
  },
  "language_info": {
   "codemirror_mode": {
    "name": "ipython",
    "version": 3
   },
   "file_extension": ".py",
   "mimetype": "text/x-python",
   "name": "python",
   "nbconvert_exporter": "python",
   "pygments_lexer": "ipython3",
   "version": "3.9.7"
  }
 },
 "nbformat": 4,
 "nbformat_minor": 5
}
